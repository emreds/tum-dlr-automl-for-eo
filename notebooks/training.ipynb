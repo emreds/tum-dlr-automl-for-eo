{
 "cells": [
  {
   "cell_type": "code",
   "execution_count": 1,
   "id": "f273e2ee",
   "metadata": {},
   "outputs": [],
   "source": [
    "from tum_dlr_automl_for_eo.datamodules.EODataLoader import EODataModule\n",
    "import matplotlib.pyplot as plt \n",
    "import numpy as np \n",
    "import torch\n",
    "import torchvision \n",
    "import torchvision.transforms as transforms \n",
    "import torch.nn as nn \n",
    "import torch.nn.functional as F \n",
    "import torch.optim as optim "
   ]
  },
  {
   "cell_type": "code",
   "execution_count": null,
   "id": "ee1f3428",
   "metadata": {},
   "outputs": [],
   "source": [
    "data_module = EODataModule('./', 'Sentinel-2')\n",
    "data_module.prepare_data()\n",
    "transform = transforms.Compose([transforms.ToTensor()])\n",
    "data_module.setup(transform)\n",
    "training_data  = data_module.training_dataLoader(batch_size = 10000)"
   ]
  },
  {
   "cell_type": "code",
   "execution_count": 3,
   "id": "f009b5b1",
   "metadata": {},
   "outputs": [],
   "source": [
    "testing_data  = data_module.testing_dataLoader(batch_size = 1000)"
   ]
  },
  {
   "cell_type": "code",
   "execution_count": 4,
   "id": "c7b1caed",
   "metadata": {},
   "outputs": [
    {
     "name": "stdout",
     "output_type": "stream",
     "text": [
      "Net(\n",
      "  (conv1): Conv2d(10, 6, kernel_size=(5, 5), stride=(1, 1))\n",
      "  (pool): MaxPool2d(kernel_size=2, stride=2, padding=0, dilation=1, ceil_mode=False)\n",
      "  (conv2): Conv2d(6, 16, kernel_size=(5, 5), stride=(1, 1))\n",
      "  (fc1): Linear(in_features=400, out_features=120, bias=True)\n",
      "  (fc2): Linear(in_features=120, out_features=84, bias=True)\n",
      "  (fc3): Linear(in_features=84, out_features=17, bias=True)\n",
      ")\n"
     ]
    }
   ],
   "source": [
    "class Net(nn.Module):\n",
    "    ''' Models a simple Convolutional Neural Network'''\n",
    "    def __init__(self):\n",
    "        \n",
    "        super(Net, self).__init__()\n",
    "    # 3 input image channel, 6 output channels, \n",
    "    # 5x5 square convolution kernel\n",
    "        self.conv1 = nn.Conv2d(10, 6, 5)\n",
    "    # Max pooling over a (2, 2) window\n",
    "        self.pool = nn.MaxPool2d(2, 2)\n",
    "        self.conv2 = nn.Conv2d(6, 16, 5) \n",
    "        self.fc1 = nn.Linear(16 * 5 * 5, 120)# 5x5 from image dimension\n",
    "        self.fc2 = nn.Linear(120, 84)\n",
    "        self.fc3 = nn.Linear(84, 17)\n",
    "\n",
    "    def forward(self, x):\n",
    "        \n",
    "    \n",
    "        x = self.pool(F.relu(self.conv1(x)))\n",
    "        x = self.pool(F.relu(self.conv2(x)))\n",
    "        x = x.view(-1, 16 * 5 * 5)\n",
    "        x = F.relu(self.fc1(x))\n",
    "        x = F.relu(self.fc2(x))\n",
    "        x = self.fc3(x)\n",
    "        return x\n",
    "\n",
    "net = Net()\n",
    "print(net)"
   ]
  },
  {
   "cell_type": "code",
   "execution_count": 5,
   "id": "074b64c2",
   "metadata": {},
   "outputs": [
    {
     "name": "stdout",
     "output_type": "stream",
     "text": [
      "353\n"
     ]
    }
   ],
   "source": [
    "criterion = nn.CrossEntropyLoss()\n",
    "optimizer = optim.SGD(net.parameters(), lr = 0.1, momentum = 0.9)\n",
    "print(len(training_data))"
   ]
  },
  {
   "cell_type": "code",
   "execution_count": 6,
   "id": "036bdbfa",
   "metadata": {},
   "outputs": [
    {
     "name": "stdout",
     "output_type": "stream",
     "text": [
      "[1,   100] loss: 2.371\n",
      "[1,   200] loss: 1.880\n",
      "[1,   300] loss: 1.702\n",
      "[2,   100] loss: 1.564\n",
      "[2,   200] loss: 1.500\n",
      "[2,   300] loss: 1.530\n",
      "[3,   100] loss: 1.382\n",
      "[3,   200] loss: 1.317\n",
      "[3,   300] loss: 1.278\n",
      "[4,   100] loss: 1.284\n",
      "[4,   200] loss: 1.236\n",
      "[4,   300] loss: 1.204\n",
      "[5,   100] loss: 1.170\n",
      "[5,   200] loss: 1.106\n",
      "[5,   300] loss: 1.131\n"
     ]
    }
   ],
   "source": [
    "for epoch in range(5):  # loop over the dataset multiple times\n",
    "\n",
    "    running_loss = 0.0\n",
    "    for i, data in enumerate(training_data,0):\n",
    "        # get the inputs; data is a list of [inputs, labels]\n",
    "        inputs, labels = data[0], data[1]\n",
    "       \n",
    "\n",
    "        # zero the parameter gradients\n",
    "        optimizer.zero_grad()\n",
    "\n",
    "        # forward + backward + optimize\n",
    "        outputs = net(inputs.float())\n",
    "\n",
    "        loss = criterion(outputs, labels)\n",
    "        loss.backward()\n",
    "        optimizer.step()\n",
    "\n",
    "        # print statistics\n",
    "        running_loss += loss.item()\n",
    "        if i % 100 == 99:    \n",
    "            print('[%d, %5d] loss: %.3f' %\n",
    "                  (epoch + 1, i + 1, running_loss / 100))\n",
    "            running_loss = 0.0"
   ]
  },
  {
   "cell_type": "code",
   "execution_count": null,
   "id": "b2116335",
   "metadata": {},
   "outputs": [],
   "source": []
  }
 ],
 "metadata": {
  "kernelspec": {
   "display_name": "Python 3.7.15 ('dlr-naslib')",
   "language": "python",
   "name": "python3"
  },
  "language_info": {
   "codemirror_mode": {
    "name": "ipython",
    "version": 3
   },
   "file_extension": ".py",
   "mimetype": "text/x-python",
   "name": "python",
   "nbconvert_exporter": "python",
   "pygments_lexer": "ipython3",
   "version": "3.7.15"
  },
  "vscode": {
   "interpreter": {
    "hash": "d9ddca5c0236aaa4ed72ead3a2ec19db198dc1705152d042dbce951924ecee52"
   }
  }
 },
 "nbformat": 4,
 "nbformat_minor": 5
}
